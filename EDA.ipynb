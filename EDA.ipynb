{
 "cells": [
  {
   "cell_type": "code",
   "execution_count": 1,
   "metadata": {
    "ExecuteTime": {
     "end_time": "2018-10-30T16:53:26.893168Z",
     "start_time": "2018-10-30T16:53:26.735211Z"
    }
   },
   "outputs": [],
   "source": [
    "import os\n",
    "import pandas as pd\n",
    "import numpy as np\n",
    "from sklearn.preprocessing import LabelEncoder, OneHotEncoder\n",
    "from sklearn.impute import SimpleImputer\n",
    "from sklearn.neural_network import MLPClassifier\n",
    "from sklearn.pipeline import Pipeline\n",
    "from xgboost import XGBClassifier\n",
    "\n",
    "import matplotlib\n",
    "%matplotlib inline \n",
    "\n",
    "pd.set_option('display.max_rows', 500)\n",
    "pd.set_option('display.max_columns', 500)"
   ]
  },
  {
   "cell_type": "code",
   "execution_count": 2,
   "metadata": {},
   "outputs": [],
   "source": [
    "train = pd.read_csv('cat_in_dat/train.csv')"
   ]
  },
  {
   "cell_type": "code",
   "execution_count": 3,
   "metadata": {},
   "outputs": [
    {
     "data": {
      "text/plain": [
       "(600000, 25)"
      ]
     },
     "execution_count": 3,
     "metadata": {},
     "output_type": "execute_result"
    }
   ],
   "source": [
    "train.shape"
   ]
  },
  {
   "cell_type": "code",
   "execution_count": 4,
   "metadata": {},
   "outputs": [
    {
     "data": {
      "text/html": [
       "<div>\n",
       "<style scoped>\n",
       "    .dataframe tbody tr th:only-of-type {\n",
       "        vertical-align: middle;\n",
       "    }\n",
       "\n",
       "    .dataframe tbody tr th {\n",
       "        vertical-align: top;\n",
       "    }\n",
       "\n",
       "    .dataframe thead th {\n",
       "        text-align: right;\n",
       "    }\n",
       "</style>\n",
       "<table border=\"1\" class=\"dataframe\">\n",
       "  <thead>\n",
       "    <tr style=\"text-align: right;\">\n",
       "      <th></th>\n",
       "      <th>id</th>\n",
       "      <th>bin_0</th>\n",
       "      <th>bin_1</th>\n",
       "      <th>bin_2</th>\n",
       "      <th>bin_3</th>\n",
       "      <th>bin_4</th>\n",
       "      <th>nom_0</th>\n",
       "      <th>nom_1</th>\n",
       "      <th>nom_2</th>\n",
       "      <th>nom_3</th>\n",
       "      <th>nom_4</th>\n",
       "      <th>nom_5</th>\n",
       "      <th>nom_6</th>\n",
       "      <th>nom_7</th>\n",
       "      <th>nom_8</th>\n",
       "      <th>nom_9</th>\n",
       "      <th>ord_0</th>\n",
       "      <th>ord_1</th>\n",
       "      <th>ord_2</th>\n",
       "      <th>ord_3</th>\n",
       "      <th>ord_4</th>\n",
       "      <th>ord_5</th>\n",
       "      <th>day</th>\n",
       "      <th>month</th>\n",
       "      <th>target</th>\n",
       "    </tr>\n",
       "  </thead>\n",
       "  <tbody>\n",
       "    <tr>\n",
       "      <th>0</th>\n",
       "      <td>0</td>\n",
       "      <td>0.0</td>\n",
       "      <td>0.0</td>\n",
       "      <td>0.0</td>\n",
       "      <td>F</td>\n",
       "      <td>N</td>\n",
       "      <td>Red</td>\n",
       "      <td>Trapezoid</td>\n",
       "      <td>Hamster</td>\n",
       "      <td>Russia</td>\n",
       "      <td>Bassoon</td>\n",
       "      <td>de4c57ee2</td>\n",
       "      <td>a64bc7ddf</td>\n",
       "      <td>598080a91</td>\n",
       "      <td>0256c7a4b</td>\n",
       "      <td>02e7c8990</td>\n",
       "      <td>3.0</td>\n",
       "      <td>Contributor</td>\n",
       "      <td>Hot</td>\n",
       "      <td>c</td>\n",
       "      <td>U</td>\n",
       "      <td>Pw</td>\n",
       "      <td>6.0</td>\n",
       "      <td>3.0</td>\n",
       "      <td>0</td>\n",
       "    </tr>\n",
       "    <tr>\n",
       "      <th>1</th>\n",
       "      <td>1</td>\n",
       "      <td>1.0</td>\n",
       "      <td>1.0</td>\n",
       "      <td>0.0</td>\n",
       "      <td>F</td>\n",
       "      <td>Y</td>\n",
       "      <td>Red</td>\n",
       "      <td>Star</td>\n",
       "      <td>Axolotl</td>\n",
       "      <td>NaN</td>\n",
       "      <td>Theremin</td>\n",
       "      <td>2bb3c3e5c</td>\n",
       "      <td>3a3a936e8</td>\n",
       "      <td>1dddb8473</td>\n",
       "      <td>52ead350c</td>\n",
       "      <td>f37df64af</td>\n",
       "      <td>3.0</td>\n",
       "      <td>Grandmaster</td>\n",
       "      <td>Warm</td>\n",
       "      <td>e</td>\n",
       "      <td>X</td>\n",
       "      <td>pE</td>\n",
       "      <td>7.0</td>\n",
       "      <td>7.0</td>\n",
       "      <td>0</td>\n",
       "    </tr>\n",
       "    <tr>\n",
       "      <th>2</th>\n",
       "      <td>2</td>\n",
       "      <td>0.0</td>\n",
       "      <td>1.0</td>\n",
       "      <td>0.0</td>\n",
       "      <td>F</td>\n",
       "      <td>N</td>\n",
       "      <td>Red</td>\n",
       "      <td>NaN</td>\n",
       "      <td>Hamster</td>\n",
       "      <td>Canada</td>\n",
       "      <td>Bassoon</td>\n",
       "      <td>b574c9841</td>\n",
       "      <td>708248125</td>\n",
       "      <td>5ddc9a726</td>\n",
       "      <td>745b909d1</td>\n",
       "      <td>NaN</td>\n",
       "      <td>3.0</td>\n",
       "      <td>NaN</td>\n",
       "      <td>Freezing</td>\n",
       "      <td>n</td>\n",
       "      <td>P</td>\n",
       "      <td>eN</td>\n",
       "      <td>5.0</td>\n",
       "      <td>9.0</td>\n",
       "      <td>0</td>\n",
       "    </tr>\n",
       "    <tr>\n",
       "      <th>3</th>\n",
       "      <td>3</td>\n",
       "      <td>NaN</td>\n",
       "      <td>0.0</td>\n",
       "      <td>0.0</td>\n",
       "      <td>F</td>\n",
       "      <td>N</td>\n",
       "      <td>Red</td>\n",
       "      <td>Circle</td>\n",
       "      <td>Hamster</td>\n",
       "      <td>Finland</td>\n",
       "      <td>Theremin</td>\n",
       "      <td>673bdf1f6</td>\n",
       "      <td>23edb8da3</td>\n",
       "      <td>3a33ef960</td>\n",
       "      <td>bdaa56dd1</td>\n",
       "      <td>f9d456e57</td>\n",
       "      <td>1.0</td>\n",
       "      <td>Novice</td>\n",
       "      <td>Lava Hot</td>\n",
       "      <td>a</td>\n",
       "      <td>C</td>\n",
       "      <td>NaN</td>\n",
       "      <td>3.0</td>\n",
       "      <td>3.0</td>\n",
       "      <td>0</td>\n",
       "    </tr>\n",
       "    <tr>\n",
       "      <th>4</th>\n",
       "      <td>4</td>\n",
       "      <td>0.0</td>\n",
       "      <td>NaN</td>\n",
       "      <td>0.0</td>\n",
       "      <td>T</td>\n",
       "      <td>N</td>\n",
       "      <td>Red</td>\n",
       "      <td>Triangle</td>\n",
       "      <td>Hamster</td>\n",
       "      <td>Costa Rica</td>\n",
       "      <td>NaN</td>\n",
       "      <td>777d1ac2c</td>\n",
       "      <td>3a7975e46</td>\n",
       "      <td>bc9cc2a94</td>\n",
       "      <td>NaN</td>\n",
       "      <td>c5361037c</td>\n",
       "      <td>3.0</td>\n",
       "      <td>Grandmaster</td>\n",
       "      <td>Cold</td>\n",
       "      <td>h</td>\n",
       "      <td>C</td>\n",
       "      <td>OZ</td>\n",
       "      <td>5.0</td>\n",
       "      <td>12.0</td>\n",
       "      <td>0</td>\n",
       "    </tr>\n",
       "  </tbody>\n",
       "</table>\n",
       "</div>"
      ],
      "text/plain": [
       "   id  bin_0  bin_1  bin_2 bin_3 bin_4 nom_0      nom_1    nom_2       nom_3  \\\n",
       "0   0    0.0    0.0    0.0     F     N   Red  Trapezoid  Hamster      Russia   \n",
       "1   1    1.0    1.0    0.0     F     Y   Red       Star  Axolotl         NaN   \n",
       "2   2    0.0    1.0    0.0     F     N   Red        NaN  Hamster      Canada   \n",
       "3   3    NaN    0.0    0.0     F     N   Red     Circle  Hamster     Finland   \n",
       "4   4    0.0    NaN    0.0     T     N   Red   Triangle  Hamster  Costa Rica   \n",
       "\n",
       "      nom_4      nom_5      nom_6      nom_7      nom_8      nom_9  ord_0  \\\n",
       "0   Bassoon  de4c57ee2  a64bc7ddf  598080a91  0256c7a4b  02e7c8990    3.0   \n",
       "1  Theremin  2bb3c3e5c  3a3a936e8  1dddb8473  52ead350c  f37df64af    3.0   \n",
       "2   Bassoon  b574c9841  708248125  5ddc9a726  745b909d1        NaN    3.0   \n",
       "3  Theremin  673bdf1f6  23edb8da3  3a33ef960  bdaa56dd1  f9d456e57    1.0   \n",
       "4       NaN  777d1ac2c  3a7975e46  bc9cc2a94        NaN  c5361037c    3.0   \n",
       "\n",
       "         ord_1     ord_2 ord_3 ord_4 ord_5  day  month  target  \n",
       "0  Contributor       Hot     c     U    Pw  6.0    3.0       0  \n",
       "1  Grandmaster      Warm     e     X    pE  7.0    7.0       0  \n",
       "2          NaN  Freezing     n     P    eN  5.0    9.0       0  \n",
       "3       Novice  Lava Hot     a     C   NaN  3.0    3.0       0  \n",
       "4  Grandmaster      Cold     h     C    OZ  5.0   12.0       0  "
      ]
     },
     "execution_count": 4,
     "metadata": {},
     "output_type": "execute_result"
    }
   ],
   "source": [
    "train.head()"
   ]
  },
  {
   "cell_type": "code",
   "execution_count": 6,
   "metadata": {},
   "outputs": [
    {
     "data": {
      "text/plain": [
       "190"
      ]
     },
     "execution_count": 6,
     "metadata": {},
     "output_type": "execute_result"
    }
   ],
   "source": [
    "train['ord_5'].nunique()"
   ]
  },
  {
   "cell_type": "code",
   "execution_count": 7,
   "metadata": {},
   "outputs": [
    {
     "data": {
      "text/plain": [
       "Fl    10562\n",
       "DN     9527\n",
       "Sz     8654\n",
       "RV     5648\n",
       "oJ     5596\n",
       "PS     5447\n",
       "vq     5443\n",
       "WW     5385\n",
       "XC     5383\n",
       "AG     5364\n",
       "GZ     5348\n",
       "be     5313\n",
       "DR     5292\n",
       "vx     5237\n",
       "tn     5231\n",
       "lS     5229\n",
       "hG     5224\n",
       "mo     5174\n",
       "Ib     5129\n",
       "mD     5120\n",
       "TL     5112\n",
       "TZ     5092\n",
       "Hk     5033\n",
       "Nh     4986\n",
       "YJ     4968\n",
       "rl     4961\n",
       "RD     4949\n",
       "gc     4926\n",
       "uQ     4923\n",
       "pB     4852\n",
       "Mg     4831\n",
       "MV     4826\n",
       "rM     4792\n",
       "oU     4753\n",
       "rA     4738\n",
       "JQ     4717\n",
       "Dj     4686\n",
       "DI     4682\n",
       "UV     4654\n",
       "yE     4623\n",
       "fV     4582\n",
       "ep     4572\n",
       "Pw     4568\n",
       "OZ     4565\n",
       "XM     4554\n",
       "Ey     4520\n",
       "oh     4512\n",
       "ly     4489\n",
       "AU     4487\n",
       "NS     4475\n",
       "sf     4458\n",
       "rg     4437\n",
       "sc     4427\n",
       "wa     4417\n",
       "qP     4362\n",
       "Bx     4349\n",
       "kT     4348\n",
       "pE     4293\n",
       "xG     4290\n",
       "dh     4288\n",
       "US     4281\n",
       "DT     4224\n",
       "hT     4210\n",
       "jf     4193\n",
       "th     4150\n",
       "qN     4133\n",
       "EC     4103\n",
       "nj     4099\n",
       "HK     4072\n",
       "oI     3972\n",
       "Pk     3954\n",
       "aE     3954\n",
       "hx     3931\n",
       "IS     3930\n",
       "XR     3888\n",
       "nS     3792\n",
       "LY     3790\n",
       "mi     3712\n",
       "AI     3677\n",
       "Rz     3657\n",
       "Lo     3633\n",
       "nn     3630\n",
       "Ji     3610\n",
       "JT     3593\n",
       "cy     3580\n",
       "pT     3513\n",
       "Rj     3508\n",
       "ok     3496\n",
       "zc     3490\n",
       "fe     3402\n",
       "RT     3391\n",
       "CU     3338\n",
       "IA     3302\n",
       "LS     3231\n",
       "us     3192\n",
       "cR     3166\n",
       "Ay     3150\n",
       "Ty     3112\n",
       "lA     3098\n",
       "eN     3090\n",
       "QV     3038\n",
       "TH     3012\n",
       "cY     3007\n",
       "TP     2944\n",
       "Rv     2923\n",
       "Tz     2868\n",
       "Mq     2863\n",
       "Yi     2808\n",
       "SS     2793\n",
       "CN     2773\n",
       "dp     2753\n",
       "jp     2611\n",
       "Kq     2554\n",
       "Iq     2510\n",
       "AW     2477\n",
       "yK     2393\n",
       "iS     2390\n",
       "OM     2365\n",
       "BL     2330\n",
       "al     2271\n",
       "ht     2271\n",
       "Ox     2261\n",
       "zp     2186\n",
       "HF     2129\n",
       "XU     2118\n",
       "gK     2081\n",
       "Re     2079\n",
       "gt     1999\n",
       "xF     1970\n",
       "sF     1904\n",
       "Sk     1890\n",
       "gj     1824\n",
       "xB     1791\n",
       "kv     1790\n",
       "iv     1787\n",
       "ze     1764\n",
       "gL     1730\n",
       "Wr     1727\n",
       "cg     1708\n",
       "pZ     1707\n",
       "mP     1690\n",
       "aA     1605\n",
       "uZ     1583\n",
       "ne     1523\n",
       "MU     1467\n",
       "lR     1376\n",
       "Oe     1358\n",
       "mX     1302\n",
       "Ro     1287\n",
       "fO     1264\n",
       "kB     1192\n",
       "wU     1178\n",
       "FH     1164\n",
       "sY     1116\n",
       "zf     1082\n",
       "Io     1066\n",
       "uP     1046\n",
       "In     1038\n",
       "ja     1035\n",
       "Yr      862\n",
       "Tg      814\n",
       "RB      800\n",
       "pl      758\n",
       "tT      749\n",
       "Dn      656\n",
       "HO      606\n",
       "Qm      595\n",
       "NT      583\n",
       "uI      528\n",
       "WC      493\n",
       "BX      482\n",
       "Yb      476\n",
       "FB      433\n",
       "PG      345\n",
       "nf      345\n",
       "wJ      341\n",
       "fF      335\n",
       "kP      331\n",
       "ur      319\n",
       "uW      269\n",
       "MF      256\n",
       "SL      249\n",
       "Cn      236\n",
       "XI      198\n",
       "MX      196\n",
       "vw      189\n",
       "gV      124\n",
       "vQ      120\n",
       "eA       91\n",
       "Zv       87\n",
       "Name: ord_5, dtype: int64"
      ]
     },
     "execution_count": 7,
     "metadata": {},
     "output_type": "execute_result"
    }
   ],
   "source": [
    "train['ord_5'].value_counts()"
   ]
  },
  {
   "cell_type": "code",
   "execution_count": 26,
   "metadata": {},
   "outputs": [],
   "source": [
    "train['ord_5_0'] = train['ord_5'].apply(lambda x: x[0] if isinstance(x, str) else x)\n",
    "train['ord_5_1'] = train['ord_5'].apply(lambda x: x[1] if isinstance(x, str) else x)\n",
    "train['ord_5_0_upper'] = train['ord_5_0'].apply(lambda x: x.upper()==x if isinstance(x, str) else x)\n",
    "train['ord_5_1_upper'] = train['ord_5_1'].apply(lambda x: x.upper()==x if isinstance(x, str) else x)"
   ]
  },
  {
   "cell_type": "code",
   "execution_count": 27,
   "metadata": {},
   "outputs": [],
   "source": [
    "bin_col = [col for col in train.columns if col.startswith('bin_')]\n",
    "nom_col = [col for col in train.columns if col.startswith('nom_')]\n",
    "nom_col_low = [c for c in nom_col if len(train[c].unique()) <= 10]\n",
    "nom_col_high = [c for c in nom_col if len(train[c].unique()) > 10]\n",
    "ord_col = [col for col in train.columns if col.startswith('ord_')]"
   ]
  },
  {
   "cell_type": "code",
   "execution_count": 28,
   "metadata": {
    "scrolled": false
   },
   "outputs": [
    {
     "data": {
      "image/png": "[encoded data removed]",
      "text/plain": [
       "<Figure size 432x288 with 1 Axes>"
      ]
     },
     "metadata": {
      "needs_background": "light"
     },
     "output_type": "display_data"
    },
    {
     "data": {
      "image/png": "[encoded data removed]",
      "text/plain": [
       "<Figure size 432x288 with 1 Axes>"
      ]
     },
     "metadata": {
      "needs_background": "light"
     },
     "output_type": "display_data"
    },
    {
     "data": {
      "image/png": "[encoded data removed]",
      "text/plain": [
       "<Figure size 432x288 with 1 Axes>"
      ]
     },
     "metadata": {
      "needs_background": "light"
     },
     "output_type": "display_data"
    },
    {
     "data": {
      "image/png": "[encoded data removed]",
      "text/plain": [
       "<Figure size 432x288 with 1 Axes>"
      ]
     },
     "metadata": {
      "needs_background": "light"
     },
     "output_type": "display_data"
    },
    {
     "data": {
      "image/png": "[encoded data removed]",
      "text/plain": [
       "<Figure size 432x288 with 1 Axes>"
      ]
     },
     "metadata": {
      "needs_background": "light"
     },
     "output_type": "display_data"
    },
    {
     "data": {
      "image/png": "[encoded data removed]",
      "text/plain": [
       "<Figure size 432x288 with 1 Axes>"
      ]
     },
     "metadata": {
      "needs_background": "light"
     },
     "output_type": "display_data"
    },
    {
     "data": {
      "image/png": "[encoded data removed]",
      "text/plain": [
       "<Figure size 432x288 with 1 Axes>"
      ]
     },
     "metadata": {
      "needs_background": "light"
     },
     "output_type": "display_data"
    },
    {
     "data": {
      "image/png": "[encoded data removed]",
      "text/plain": [
       "<Figure size 432x288 with 1 Axes>"
      ]
     },
     "metadata": {
      "needs_background": "light"
     },
     "output_type": "display_data"
    },
    {
     "data": {
      "image/png": "[encoded data removed]",
      "text/plain": [
       "<Figure size 432x288 with 1 Axes>"
      ]
     },
     "metadata": {
      "needs_background": "light"
     },
     "output_type": "display_data"
    },
    {
     "data": {
      "image/png": "[encoded data removed]",
      "text/plain": [
       "<Figure size 432x288 with 1 Axes>"
      ]
     },
     "metadata": {
      "needs_background": "light"
     },
     "output_type": "display_data"
    },
    {
     "data": {
      "image/png": "[encoded data removed]",
      "text/plain": [
       "<Figure size 432x288 with 1 Axes>"
      ]
     },
     "metadata": {
      "needs_background": "light"
     },
     "output_type": "display_data"
    },
    {
     "data": {
      "image/png": "[encoded data removed]",
      "text/plain": [
       "<Figure size 432x288 with 1 Axes>"
      ]
     },
     "metadata": {
      "needs_background": "light"
     },
     "output_type": "display_data"
    }
   ],
   "source": [
    "for col in ord_col + ['day', 'month']:\n",
    "    pd.DataFrame(pd.crosstab(train[col], train.target, dropna=False, normalize='index')[1]).plot(kind='barh')"
   ]
  },
  {
   "cell_type": "code",
   "execution_count": null,
   "metadata": {},
   "outputs": [],
   "source": []
  }
 ],
 "metadata": {
  "kernelspec": {
   "display_name": "Python 3",
   "language": "python",
   "name": "python3"
  },
  "language_info": {
   "codemirror_mode": {
    "name": "ipython",
    "version": 3
   },
   "file_extension": ".py",
   "mimetype": "text/x-python",
   "name": "python",
   "nbconvert_exporter": "python",
   "pygments_lexer": "ipython3",
   "version": "3.6.8"
  }
 },
 "nbformat": 4,
 "nbformat_minor": 2
}
